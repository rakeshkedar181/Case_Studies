{
 "cells": [
  {
   "cell_type": "markdown",
   "metadata": {},
   "source": [
    "## Prediction of Career Lengths of NBA Players\n",
    "\n",
    "The dataset details the performance metrics of NBA players and whether their careers span more than 5 years or not. \n",
    "\n",
    "### Aim\n",
    "The task is to predict whether the careers of these players will span for more than 5 years or less.\n",
    "\n",
    "\n",
    "### Feature descriptions:\n",
    "The dataset contains columns giving values for points attained by NBA players in their careers. The description of the features is as given below\n",
    "\n",
    "\n",
    "|Features|Description|\n",
    "|----|----|\n",
    "|Name| Name of the Player|\n",
    "|Games Played|Number of Games Played by the player|\n",
    "|Minutes| Minutes Played\n",
    "|Points| Points Per Game|\n",
    "|Field Goals Made| Successful field goals made|\n",
    "|Field Goals Attempted | Field goals attempted |\n",
    "|Field Goals Percentage | Percentage of successful field goals out of the field goals attempted|\n",
    "|3 Pointers Made| Successful 3 pointer attempts|\n",
    "|3 Pointers Attempted | Total 3 pointers attempted|\n",
    "|3 Pointers Percentage | Percentage of successful 3 pointers out of those attempted|\n",
    "|Free Throws Made| Successful number of free throws | \n",
    "|Free Throws Attempted| Total attempted number of free throws|\n",
    "|Free Throw Percentage| Successful number of free throws out of those attempted|\n",
    "|OREB|Offesnisve Rebounds|\n",
    "|DREB|Defensive Rebounds |\n",
    "|REB|Rebounds|\n",
    "|AST|Assists|\n",
    "|STL|Steals|\n",
    "|BLK|Number of blocks|\n",
    "|TOV |Number of Turnovers|\n",
    "|Play for more than 5 years or less| 1 if career length is greater than 5 years else 0 if career length is less than 5 years|"
   ]
  },
  {
   "cell_type": "markdown",
   "metadata": {},
   "source": [
    "### Loading Libraries"
   ]
  },
  {
   "cell_type": "code",
   "execution_count": 1,
   "metadata": {},
   "outputs": [],
   "source": [
    "import numpy as np\n",
    "import pandas as pd\n",
    "import matplotlib.pyplot as plt\n",
    "import seaborn as sns\n",
    "%matplotlib inline\n",
    "import warnings\n",
    "warnings.filterwarnings('ignore')\n",
    "from sklearn.model_selection import train_test_split\n",
    "from sklearn.preprocessing import LabelEncoder\n",
    "from sklearn.linear_model import LogisticRegression\n",
    "from sklearn.tree import DecisionTreeClassifier\n",
    "from sklearn.ensemble import RandomForestClassifier\n",
    "from sklearn.model_selection import GridSearchCV\n",
    "from sklearn.metrics import roc_auc_score,accuracy_score,classification_report,roc_curve,confusion_matrix\n",
    "pd.set_option('display.max_columns',None)"
   ]
  },
  {
   "cell_type": "markdown",
   "metadata": {},
   "source": [
    "### Read the data. List the categorical and continuous features in the dataset. Find the number of null values in every feature and impute them appropriately. "
   ]
  },
  {
   "cell_type": "code",
   "execution_count": 2,
   "metadata": {},
   "outputs": [],
   "source": [
    "# Read the data\n",
    "df = pd.read_csv('NBA_players.csv')"
   ]
  },
  {
   "cell_type": "code",
   "execution_count": 3,
   "metadata": {},
   "outputs": [
    {
     "data": {
      "text/html": [
       "<div>\n",
       "<style scoped>\n",
       "    .dataframe tbody tr th:only-of-type {\n",
       "        vertical-align: middle;\n",
       "    }\n",
       "\n",
       "    .dataframe tbody tr th {\n",
       "        vertical-align: top;\n",
       "    }\n",
       "\n",
       "    .dataframe thead th {\n",
       "        text-align: right;\n",
       "    }\n",
       "</style>\n",
       "<table border=\"1\" class=\"dataframe\">\n",
       "  <thead>\n",
       "    <tr style=\"text-align: right;\">\n",
       "      <th></th>\n",
       "      <th>Name</th>\n",
       "      <th>Games Played</th>\n",
       "      <th>Minutes</th>\n",
       "      <th>Points</th>\n",
       "      <th>Field Goals Made</th>\n",
       "      <th>Field Goals Attempted</th>\n",
       "      <th>Field Goals Percentage</th>\n",
       "      <th>3 Pointers Made</th>\n",
       "      <th>3 Pointers Attempted</th>\n",
       "      <th>3 Pointers Percentage</th>\n",
       "      <th>Free Throws Made</th>\n",
       "      <th>Free Throws Attempted</th>\n",
       "      <th>Fre Throw Percentage</th>\n",
       "      <th>OREB</th>\n",
       "      <th>DREB</th>\n",
       "      <th>REB</th>\n",
       "      <th>AST</th>\n",
       "      <th>STL</th>\n",
       "      <th>BLK</th>\n",
       "      <th>TOV</th>\n",
       "      <th>Play for more than 5 years or less</th>\n",
       "    </tr>\n",
       "  </thead>\n",
       "  <tbody>\n",
       "    <tr>\n",
       "      <td>0</td>\n",
       "      <td>Brandon Ingram</td>\n",
       "      <td>36</td>\n",
       "      <td>27.4</td>\n",
       "      <td>7.4</td>\n",
       "      <td>2.6</td>\n",
       "      <td>7.6</td>\n",
       "      <td>34.7</td>\n",
       "      <td>0.5</td>\n",
       "      <td>2.1</td>\n",
       "      <td>25.0</td>\n",
       "      <td>1.6</td>\n",
       "      <td>2.3</td>\n",
       "      <td>69.9</td>\n",
       "      <td>0.7</td>\n",
       "      <td>3.4</td>\n",
       "      <td>4.1</td>\n",
       "      <td>1.9</td>\n",
       "      <td>0.4</td>\n",
       "      <td>0.4</td>\n",
       "      <td>1.3</td>\n",
       "      <td>0.0</td>\n",
       "    </tr>\n",
       "    <tr>\n",
       "      <td>1</td>\n",
       "      <td>Andrew Harrison</td>\n",
       "      <td>35</td>\n",
       "      <td>26.9</td>\n",
       "      <td>7.2</td>\n",
       "      <td>2.0</td>\n",
       "      <td>6.7</td>\n",
       "      <td>29.6</td>\n",
       "      <td>0.7</td>\n",
       "      <td>2.8</td>\n",
       "      <td>23.5</td>\n",
       "      <td>2.6</td>\n",
       "      <td>3.4</td>\n",
       "      <td>76.5</td>\n",
       "      <td>0.5</td>\n",
       "      <td>2.0</td>\n",
       "      <td>2.4</td>\n",
       "      <td>3.7</td>\n",
       "      <td>1.1</td>\n",
       "      <td>0.5</td>\n",
       "      <td>1.6</td>\n",
       "      <td>0.0</td>\n",
       "    </tr>\n",
       "    <tr>\n",
       "      <td>2</td>\n",
       "      <td>JaKarr Sampson</td>\n",
       "      <td>74</td>\n",
       "      <td>15.3</td>\n",
       "      <td>5.2</td>\n",
       "      <td>2.0</td>\n",
       "      <td>4.7</td>\n",
       "      <td>42.2</td>\n",
       "      <td>0.4</td>\n",
       "      <td>1.7</td>\n",
       "      <td>24.4</td>\n",
       "      <td>0.9</td>\n",
       "      <td>1.3</td>\n",
       "      <td>67.0</td>\n",
       "      <td>0.5</td>\n",
       "      <td>1.7</td>\n",
       "      <td>2.2</td>\n",
       "      <td>1.0</td>\n",
       "      <td>0.5</td>\n",
       "      <td>0.3</td>\n",
       "      <td>1.0</td>\n",
       "      <td>0.0</td>\n",
       "    </tr>\n",
       "    <tr>\n",
       "      <td>3</td>\n",
       "      <td>Malik Sealy</td>\n",
       "      <td>58</td>\n",
       "      <td>11.6</td>\n",
       "      <td>5.7</td>\n",
       "      <td>2.3</td>\n",
       "      <td>5.5</td>\n",
       "      <td>42.6</td>\n",
       "      <td>0.1</td>\n",
       "      <td>0.5</td>\n",
       "      <td>22.6</td>\n",
       "      <td>0.9</td>\n",
       "      <td>1.3</td>\n",
       "      <td>68.9</td>\n",
       "      <td>1.0</td>\n",
       "      <td>0.9</td>\n",
       "      <td>1.9</td>\n",
       "      <td>0.8</td>\n",
       "      <td>0.6</td>\n",
       "      <td>0.1</td>\n",
       "      <td>1.0</td>\n",
       "      <td>1.0</td>\n",
       "    </tr>\n",
       "    <tr>\n",
       "      <td>4</td>\n",
       "      <td>Matt Geiger</td>\n",
       "      <td>48</td>\n",
       "      <td>11.5</td>\n",
       "      <td>4.5</td>\n",
       "      <td>1.6</td>\n",
       "      <td>3.0</td>\n",
       "      <td>52.4</td>\n",
       "      <td>0.0</td>\n",
       "      <td>0.1</td>\n",
       "      <td>0.0</td>\n",
       "      <td>1.3</td>\n",
       "      <td>1.9</td>\n",
       "      <td>67.4</td>\n",
       "      <td>1.0</td>\n",
       "      <td>1.5</td>\n",
       "      <td>2.5</td>\n",
       "      <td>0.3</td>\n",
       "      <td>0.3</td>\n",
       "      <td>0.4</td>\n",
       "      <td>0.8</td>\n",
       "      <td>1.0</td>\n",
       "    </tr>\n",
       "  </tbody>\n",
       "</table>\n",
       "</div>"
      ],
      "text/plain": [
       "              Name  Games Played  Minutes  Points  Field Goals Made  \\\n",
       "0   Brandon Ingram            36     27.4     7.4               2.6   \n",
       "1  Andrew Harrison            35     26.9     7.2               2.0   \n",
       "2   JaKarr Sampson            74     15.3     5.2               2.0   \n",
       "3      Malik Sealy            58     11.6     5.7               2.3   \n",
       "4      Matt Geiger            48     11.5     4.5               1.6   \n",
       "\n",
       "   Field Goals Attempted  Field Goals Percentage  3 Pointers Made  \\\n",
       "0                    7.6                    34.7              0.5   \n",
       "1                    6.7                    29.6              0.7   \n",
       "2                    4.7                    42.2              0.4   \n",
       "3                    5.5                    42.6              0.1   \n",
       "4                    3.0                    52.4              0.0   \n",
       "\n",
       "   3 Pointers Attempted  3 Pointers Percentage  Free Throws Made  \\\n",
       "0                   2.1                   25.0               1.6   \n",
       "1                   2.8                   23.5               2.6   \n",
       "2                   1.7                   24.4               0.9   \n",
       "3                   0.5                   22.6               0.9   \n",
       "4                   0.1                    0.0               1.3   \n",
       "\n",
       "   Free Throws Attempted  Fre Throw Percentage  OREB  DREB  REB  AST  STL  \\\n",
       "0                    2.3                  69.9   0.7   3.4  4.1  1.9  0.4   \n",
       "1                    3.4                  76.5   0.5   2.0  2.4  3.7  1.1   \n",
       "2                    1.3                  67.0   0.5   1.7  2.2  1.0  0.5   \n",
       "3                    1.3                  68.9   1.0   0.9  1.9  0.8  0.6   \n",
       "4                    1.9                  67.4   1.0   1.5  2.5  0.3  0.3   \n",
       "\n",
       "   BLK  TOV  Play for more than 5 years or less  \n",
       "0  0.4  1.3                                 0.0  \n",
       "1  0.5  1.6                                 0.0  \n",
       "2  0.3  1.0                                 0.0  \n",
       "3  0.1  1.0                                 1.0  \n",
       "4  0.4  0.8                                 1.0  "
      ]
     },
     "execution_count": 3,
     "metadata": {},
     "output_type": "execute_result"
    }
   ],
   "source": [
    "df.head()"
   ]
  },
  {
   "cell_type": "code",
   "execution_count": 4,
   "metadata": {},
   "outputs": [],
   "source": [
    "# renaming a target variable.\n",
    "df.rename(columns={'Play for more than 5 years or less':'Target'},inplace=True)\n",
    "\n",
    "# dropping feature Name\n",
    "df.drop('Name',axis=1,inplace=True)"
   ]
  },
  {
   "cell_type": "markdown",
   "metadata": {},
   "source": [
    "## identify categorical and numerical columns"
   ]
  },
  {
   "cell_type": "code",
   "execution_count": 5,
   "metadata": {},
   "outputs": [
    {
     "name": "stdout",
     "output_type": "stream",
     "text": [
      "Numeric Features:\n",
      "   Games Played  Minutes  Points  Field Goals Made  Field Goals Attempted  \\\n",
      "0            36     27.4     7.4               2.6                    7.6   \n",
      "1            35     26.9     7.2               2.0                    6.7   \n",
      "2            74     15.3     5.2               2.0                    4.7   \n",
      "3            58     11.6     5.7               2.3                    5.5   \n",
      "4            48     11.5     4.5               1.6                    3.0   \n",
      "\n",
      "   Field Goals Percentage  3 Pointers Made  3 Pointers Attempted  \\\n",
      "0                    34.7              0.5                   2.1   \n",
      "1                    29.6              0.7                   2.8   \n",
      "2                    42.2              0.4                   1.7   \n",
      "3                    42.6              0.1                   0.5   \n",
      "4                    52.4              0.0                   0.1   \n",
      "\n",
      "   3 Pointers Percentage  Free Throws Made  Free Throws Attempted  \\\n",
      "0                   25.0               1.6                    2.3   \n",
      "1                   23.5               2.6                    3.4   \n",
      "2                   24.4               0.9                    1.3   \n",
      "3                   22.6               0.9                    1.3   \n",
      "4                    0.0               1.3                    1.9   \n",
      "\n",
      "   Fre Throw Percentage  OREB  DREB  REB  AST  STL  BLK  TOV  Target  \n",
      "0                  69.9   0.7   3.4  4.1  1.9  0.4  0.4  1.3     0.0  \n",
      "1                  76.5   0.5   2.0  2.4  3.7  1.1  0.5  1.6     0.0  \n",
      "2                  67.0   0.5   1.7  2.2  1.0  0.5  0.3  1.0     0.0  \n",
      "3                  68.9   1.0   0.9  1.9  0.8  0.6  0.1  1.0     1.0  \n",
      "4                  67.4   1.0   1.5  2.5  0.3  0.3  0.4  0.8     1.0  \n",
      "================================================================================\n",
      "Categorical Features:\n",
      "Empty DataFrame\n",
      "Columns: []\n",
      "Index: [0, 1, 2, 3, 4]\n"
     ]
    }
   ],
   "source": [
    "# Function to identify numeric features\n",
    "def numeric_features(dataset):\n",
    "    numeric_col = dataset.select_dtypes(include=np.number).columns.tolist()\n",
    "    return dataset[numeric_col].head()\n",
    "\n",
    "numeric_columns = numeric_features(df)\n",
    "print(\"Numeric Features:\")\n",
    "print(numeric_columns)\n",
    "print(\"====\"*20)\n",
    "\n",
    "# Function to identify categorical features\n",
    "def categorical_features(dataset):\n",
    "    categorical_col = dataset.select_dtypes(exclude=np.number).columns.tolist()\n",
    "    return dataset[categorical_col].head()\n",
    "\n",
    "categorical_columns = categorical_features(df)\n",
    "print(\"Categorical Features:\")\n",
    "print(categorical_columns)"
   ]
  },
  {
   "cell_type": "markdown",
   "metadata": {},
   "source": [
    "## checking missing data or null values"
   ]
  },
  {
   "cell_type": "code",
   "execution_count": 6,
   "metadata": {},
   "outputs": [
    {
     "name": "stdout",
     "output_type": "stream",
     "text": [
      "                        Count  Percentage\n",
      "3 Pointers Attempted        0    0.000000\n",
      "3 Pointers Made             0    0.000000\n",
      "3 Pointers Percentage      11    0.008209\n",
      "AST                         0    0.000000\n",
      "BLK                         0    0.000000\n",
      "DREB                        0    0.000000\n",
      "Field Goals Attempted       0    0.000000\n",
      "Field Goals Made            0    0.000000\n",
      "Field Goals Percentage      0    0.000000\n",
      "Fre Throw Percentage        0    0.000000\n",
      "Free Throws Attempted       0    0.000000\n",
      "Free Throws Made            0    0.000000\n",
      "Games Played                0    0.000000\n",
      "Minutes                     0    0.000000\n",
      "OREB                        0    0.000000\n",
      "Points                      0    0.000000\n",
      "REB                         0    0.000000\n",
      "STL                         0    0.000000\n",
      "TOV                         0    0.000000\n",
      "Target                      0    0.000000\n"
     ]
    }
   ],
   "source": [
    "# Function to check missing data.\n",
    "def missing_data(dataset):\n",
    "    count = dataset.isnull().sum().sort_values(ascending = False)\n",
    "    percentage = dataset.isnull().sum()/dataset.isnull().count().sort_values(ascending = False)\n",
    "    missing_data = pd.concat([count,percentage],axis = 1,keys=['Count','Percentage'])\n",
    "    return missing_data\n",
    "    \n",
    "missing_data = missing_data(df)\n",
    "print(missing_data)"
   ]
  },
  {
   "cell_type": "markdown",
   "metadata": {},
   "source": [
    "## Handling missing value"
   ]
  },
  {
   "cell_type": "code",
   "execution_count": 7,
   "metadata": {},
   "outputs": [
    {
     "data": {
      "text/plain": [
       "Games Played              0\n",
       "Minutes                   0\n",
       "Points                    0\n",
       "Field Goals Made          0\n",
       "Field Goals Attempted     0\n",
       "Field Goals Percentage    0\n",
       "3 Pointers Made           0\n",
       "3 Pointers Attempted      0\n",
       "3 Pointers Percentage     0\n",
       "Free Throws Made          0\n",
       "Free Throws Attempted     0\n",
       "Fre Throw Percentage      0\n",
       "OREB                      0\n",
       "DREB                      0\n",
       "REB                       0\n",
       "AST                       0\n",
       "STL                       0\n",
       "BLK                       0\n",
       "TOV                       0\n",
       "Target                    0\n",
       "dtype: int64"
      ]
     },
     "execution_count": 7,
     "metadata": {},
     "output_type": "execute_result"
    }
   ],
   "source": [
    "# Handling missing values\n",
    "\n",
    "df['3 Pointers Percentage'].describe()\n",
    "\n",
    "# as this are percentage of 3 points made / 3 points attempted we can impute the missing values with 0 \n",
    "# because some players might not have attempted or scored a 3 pointer \n",
    "\n",
    "df['3 Pointers Percentage'].fillna('0',inplace=True)\n",
    "\n",
    "# all null values handled\n",
    "df.isnull().sum()"
   ]
  },
  {
   "cell_type": "markdown",
   "metadata": {},
   "source": [
    "### Seperate the independent features and target"
   ]
  },
  {
   "cell_type": "code",
   "execution_count": 8,
   "metadata": {},
   "outputs": [],
   "source": [
    "X = df.iloc[:,:-1]\n",
    "y = df.iloc[:,-1]"
   ]
  },
  {
   "cell_type": "code",
   "execution_count": 9,
   "metadata": {},
   "outputs": [
    {
     "data": {
      "text/html": [
       "<div>\n",
       "<style scoped>\n",
       "    .dataframe tbody tr th:only-of-type {\n",
       "        vertical-align: middle;\n",
       "    }\n",
       "\n",
       "    .dataframe tbody tr th {\n",
       "        vertical-align: top;\n",
       "    }\n",
       "\n",
       "    .dataframe thead th {\n",
       "        text-align: right;\n",
       "    }\n",
       "</style>\n",
       "<table border=\"1\" class=\"dataframe\">\n",
       "  <thead>\n",
       "    <tr style=\"text-align: right;\">\n",
       "      <th></th>\n",
       "      <th>Games Played</th>\n",
       "      <th>Minutes</th>\n",
       "      <th>Points</th>\n",
       "      <th>Field Goals Made</th>\n",
       "      <th>Field Goals Attempted</th>\n",
       "      <th>Field Goals Percentage</th>\n",
       "      <th>3 Pointers Made</th>\n",
       "      <th>3 Pointers Attempted</th>\n",
       "      <th>3 Pointers Percentage</th>\n",
       "      <th>Free Throws Made</th>\n",
       "      <th>Free Throws Attempted</th>\n",
       "      <th>Fre Throw Percentage</th>\n",
       "      <th>OREB</th>\n",
       "      <th>DREB</th>\n",
       "      <th>REB</th>\n",
       "      <th>AST</th>\n",
       "      <th>STL</th>\n",
       "      <th>BLK</th>\n",
       "      <th>TOV</th>\n",
       "    </tr>\n",
       "  </thead>\n",
       "  <tbody>\n",
       "    <tr>\n",
       "      <td>0</td>\n",
       "      <td>36</td>\n",
       "      <td>27.4</td>\n",
       "      <td>7.4</td>\n",
       "      <td>2.6</td>\n",
       "      <td>7.6</td>\n",
       "      <td>34.7</td>\n",
       "      <td>0.5</td>\n",
       "      <td>2.1</td>\n",
       "      <td>25</td>\n",
       "      <td>1.6</td>\n",
       "      <td>2.3</td>\n",
       "      <td>69.9</td>\n",
       "      <td>0.7</td>\n",
       "      <td>3.4</td>\n",
       "      <td>4.1</td>\n",
       "      <td>1.9</td>\n",
       "      <td>0.4</td>\n",
       "      <td>0.4</td>\n",
       "      <td>1.3</td>\n",
       "    </tr>\n",
       "    <tr>\n",
       "      <td>1</td>\n",
       "      <td>35</td>\n",
       "      <td>26.9</td>\n",
       "      <td>7.2</td>\n",
       "      <td>2.0</td>\n",
       "      <td>6.7</td>\n",
       "      <td>29.6</td>\n",
       "      <td>0.7</td>\n",
       "      <td>2.8</td>\n",
       "      <td>23.5</td>\n",
       "      <td>2.6</td>\n",
       "      <td>3.4</td>\n",
       "      <td>76.5</td>\n",
       "      <td>0.5</td>\n",
       "      <td>2.0</td>\n",
       "      <td>2.4</td>\n",
       "      <td>3.7</td>\n",
       "      <td>1.1</td>\n",
       "      <td>0.5</td>\n",
       "      <td>1.6</td>\n",
       "    </tr>\n",
       "    <tr>\n",
       "      <td>2</td>\n",
       "      <td>74</td>\n",
       "      <td>15.3</td>\n",
       "      <td>5.2</td>\n",
       "      <td>2.0</td>\n",
       "      <td>4.7</td>\n",
       "      <td>42.2</td>\n",
       "      <td>0.4</td>\n",
       "      <td>1.7</td>\n",
       "      <td>24.4</td>\n",
       "      <td>0.9</td>\n",
       "      <td>1.3</td>\n",
       "      <td>67.0</td>\n",
       "      <td>0.5</td>\n",
       "      <td>1.7</td>\n",
       "      <td>2.2</td>\n",
       "      <td>1.0</td>\n",
       "      <td>0.5</td>\n",
       "      <td>0.3</td>\n",
       "      <td>1.0</td>\n",
       "    </tr>\n",
       "    <tr>\n",
       "      <td>3</td>\n",
       "      <td>58</td>\n",
       "      <td>11.6</td>\n",
       "      <td>5.7</td>\n",
       "      <td>2.3</td>\n",
       "      <td>5.5</td>\n",
       "      <td>42.6</td>\n",
       "      <td>0.1</td>\n",
       "      <td>0.5</td>\n",
       "      <td>22.6</td>\n",
       "      <td>0.9</td>\n",
       "      <td>1.3</td>\n",
       "      <td>68.9</td>\n",
       "      <td>1.0</td>\n",
       "      <td>0.9</td>\n",
       "      <td>1.9</td>\n",
       "      <td>0.8</td>\n",
       "      <td>0.6</td>\n",
       "      <td>0.1</td>\n",
       "      <td>1.0</td>\n",
       "    </tr>\n",
       "    <tr>\n",
       "      <td>4</td>\n",
       "      <td>48</td>\n",
       "      <td>11.5</td>\n",
       "      <td>4.5</td>\n",
       "      <td>1.6</td>\n",
       "      <td>3.0</td>\n",
       "      <td>52.4</td>\n",
       "      <td>0.0</td>\n",
       "      <td>0.1</td>\n",
       "      <td>0</td>\n",
       "      <td>1.3</td>\n",
       "      <td>1.9</td>\n",
       "      <td>67.4</td>\n",
       "      <td>1.0</td>\n",
       "      <td>1.5</td>\n",
       "      <td>2.5</td>\n",
       "      <td>0.3</td>\n",
       "      <td>0.3</td>\n",
       "      <td>0.4</td>\n",
       "      <td>0.8</td>\n",
       "    </tr>\n",
       "  </tbody>\n",
       "</table>\n",
       "</div>"
      ],
      "text/plain": [
       "   Games Played  Minutes  Points  Field Goals Made  Field Goals Attempted  \\\n",
       "0            36     27.4     7.4               2.6                    7.6   \n",
       "1            35     26.9     7.2               2.0                    6.7   \n",
       "2            74     15.3     5.2               2.0                    4.7   \n",
       "3            58     11.6     5.7               2.3                    5.5   \n",
       "4            48     11.5     4.5               1.6                    3.0   \n",
       "\n",
       "   Field Goals Percentage  3 Pointers Made  3 Pointers Attempted  \\\n",
       "0                    34.7              0.5                   2.1   \n",
       "1                    29.6              0.7                   2.8   \n",
       "2                    42.2              0.4                   1.7   \n",
       "3                    42.6              0.1                   0.5   \n",
       "4                    52.4              0.0                   0.1   \n",
       "\n",
       "  3 Pointers Percentage  Free Throws Made  Free Throws Attempted  \\\n",
       "0                    25               1.6                    2.3   \n",
       "1                  23.5               2.6                    3.4   \n",
       "2                  24.4               0.9                    1.3   \n",
       "3                  22.6               0.9                    1.3   \n",
       "4                     0               1.3                    1.9   \n",
       "\n",
       "   Fre Throw Percentage  OREB  DREB  REB  AST  STL  BLK  TOV  \n",
       "0                  69.9   0.7   3.4  4.1  1.9  0.4  0.4  1.3  \n",
       "1                  76.5   0.5   2.0  2.4  3.7  1.1  0.5  1.6  \n",
       "2                  67.0   0.5   1.7  2.2  1.0  0.5  0.3  1.0  \n",
       "3                  68.9   1.0   0.9  1.9  0.8  0.6  0.1  1.0  \n",
       "4                  67.4   1.0   1.5  2.5  0.3  0.3  0.4  0.8  "
      ]
     },
     "execution_count": 9,
     "metadata": {},
     "output_type": "execute_result"
    }
   ],
   "source": [
    "X.head(5)"
   ]
  },
  {
   "cell_type": "code",
   "execution_count": 10,
   "metadata": {},
   "outputs": [
    {
     "data": {
      "text/plain": [
       "0    0.0\n",
       "1    0.0\n",
       "2    0.0\n",
       "3    1.0\n",
       "4    1.0\n",
       "Name: Target, dtype: float64"
      ]
     },
     "execution_count": 10,
     "metadata": {},
     "output_type": "execute_result"
    }
   ],
   "source": [
    "y.head(5)"
   ]
  },
  {
   "cell_type": "code",
   "execution_count": 11,
   "metadata": {},
   "outputs": [],
   "source": [
    "# changing type of target variable\n",
    "y = y.astype('int64')"
   ]
  },
  {
   "cell_type": "markdown",
   "metadata": {},
   "source": [
    "### Check for class distribution in the target"
   ]
  },
  {
   "cell_type": "code",
   "execution_count": 12,
   "metadata": {},
   "outputs": [
    {
     "data": {
      "text/plain": [
       "1    0.620149\n",
       "0    0.379851\n",
       "Name: Target, dtype: float64"
      ]
     },
     "execution_count": 12,
     "metadata": {},
     "output_type": "execute_result"
    }
   ],
   "source": [
    "y.value_counts(normalize=True)"
   ]
  },
  {
   "cell_type": "markdown",
   "metadata": {},
   "source": [
    "### Plot the distribution of each feature, so that we have a better understanding about the distribution of each feature. Draw the number of values for each category feature and the histogram of the values for each continuous feature."
   ]
  },
  {
   "cell_type": "code",
   "execution_count": 13,
   "metadata": {},
   "outputs": [
    {
     "data": {
      "image/png": "[encoded data removed]",
      "text/plain": [
       "<Figure size 1800x1080 with 19 Axes>"
      ]
     },
     "metadata": {
      "needs_background": "light"
     },
     "output_type": "display_data"
    }
   ],
   "source": [
    "fig = plt.figure(figsize=(25, 15))\n",
    "cols = 5\n",
    "rows = np.ceil(float(X.shape[1]) / cols)\n",
    "\n",
    "for i,column in enumerate(X.columns):\n",
    "    ax = fig.add_subplot(rows,cols,i+1)\n",
    "    ax.set_title(column)\n",
    "    if X.dtypes[column] == np.object:\n",
    "        X[column].value_counts().plot(kind=\"bar\",axes=ax)\n",
    "    else:\n",
    "        X[column].hist(axes=ax)\n",
    "        plt.xticks(rotation='vertical')\n",
    "\n",
    "        plt.subplots_adjust(hspace=0.7 ,wspace=0.2)"
   ]
  },
  {
   "cell_type": "markdown",
   "metadata": {},
   "source": [
    "### Let's check the amount of skewness in our continuous predictors and depending on the type of skewness, let's apply the necessary transformations for removing the skewness"
   ]
  },
  {
   "cell_type": "code",
   "execution_count": 14,
   "metadata": {},
   "outputs": [
    {
     "name": "stdout",
     "output_type": "stream",
     "text": [
      "Positively Skewed Features \n",
      "                  Features  Skewness\n",
      "2                  Points  1.386670\n",
      "3        Field Goals Made  1.341041\n",
      "4   Field Goals Attempted  1.294430\n",
      "6         3 Pointers Made  2.030539\n",
      "7    3 Pointers Attempted  1.810406\n",
      "8        Free Throws Made  1.939825\n",
      "9   Free Throws Attempted  1.842416\n",
      "11                   OREB  1.437972\n",
      "12                   DREB  1.487014\n",
      "13                    REB  1.480077\n",
      "14                    AST  2.130429\n",
      "15                    STL  1.363271\n",
      "16                    BLK  2.801012\n",
      "17                    TOV  1.339239\n",
      "**************************************************\n",
      "Negatively Skewed Features \n",
      "                 Features  Skewness\n",
      "0           Games Played -0.477208\n",
      "10  Fre Throw Percentage -0.767003\n"
     ]
    }
   ],
   "source": [
    "import scipy.stats as scs\n",
    "\n",
    "features = []\n",
    "skewness = []\n",
    "for i in X.select_dtypes(include=np.number).columns:\n",
    "    features.append(i)\n",
    "    skewness.append(scs.skew(X[i]))\n",
    "skewed = pd.DataFrame({'Features':features,'Skewness':skewness})\n",
    "\n",
    "# If skewness is greater than 1 the feature is highly positively skewed\n",
    "positively_skewed_variables = skewed[(skewed['Skewness']>1)]\n",
    "\n",
    "# If the skewness is less than -1 the feature is highly negatively skewed.\n",
    "negatively_skewed_variables = skewed[(skewed['Skewness']<0)]\n",
    "\n",
    "print('Positively Skewed Features \\n',positively_skewed_variables)\n",
    "print('*'*50)\n",
    "print('Negatively Skewed Features \\n',negatively_skewed_variables) \n",
    "\n",
    "# Let's remove the skewness in the positively skewed variables by using a log transform\n",
    "for i in positively_skewed_variables['Features']:\n",
    "    X[i] = np.sqrt(X[i])\n",
    "\n",
    "for i in negatively_skewed_variables['Features']:\n",
    "    X[i] = X[i]**3"
   ]
  },
  {
   "cell_type": "code",
   "execution_count": 15,
   "metadata": {},
   "outputs": [
    {
     "name": "stdout",
     "output_type": "stream",
     "text": [
      "Games Played              0.179669\n",
      "Minutes                   0.632257\n",
      "Points                    0.695550\n",
      "Field Goals Made          0.659458\n",
      "Field Goals Attempted     0.689571\n",
      "Field Goals Percentage    0.208479\n",
      "3 Pointers Made           0.813275\n",
      "3 Pointers Attempted      0.647988\n",
      "3 Pointers Percentage     0.301290\n",
      "Free Throws Made          0.814065\n",
      "Free Throws Attempted     0.775634\n",
      "Fre Throw Percentage      0.432612\n",
      "OREB                      0.514474\n",
      "DREB                      0.627066\n",
      "REB                       0.659296\n",
      "AST                       0.941660\n",
      "STL                       0.458849\n",
      "BLK                       0.721281\n",
      "TOV                       0.594852\n",
      "dtype: float64\n"
     ]
    }
   ],
   "source": [
    "print(X.skew())"
   ]
  },
  {
   "cell_type": "markdown",
   "metadata": {},
   "source": [
    "### Split train and test data into X_train ,y_train,X_test and y_test data and apply a vanilla logistic regression model"
   ]
  },
  {
   "cell_type": "code",
   "execution_count": 16,
   "metadata": {},
   "outputs": [
    {
     "name": "stdout",
     "output_type": "stream",
     "text": [
      "The AUC_ROC_score for a logistic regression model is : 0.6153064415259537\n",
      "The accuracy for logistic regression is :  0.6741293532338308\n"
     ]
    }
   ],
   "source": [
    "# Split into training and testing\n",
    "X_train,X_test,y_train,y_test = train_test_split(X,y,random_state=42,test_size=0.3)\n",
    "\n",
    "\n",
    "# Apply a Logistic Regression model\n",
    "logreg = LogisticRegression()\n",
    "logreg.fit(X_train,y_train)\n",
    "y_pred = logreg.predict(X_test)\n",
    "print('The AUC_ROC_score for a logistic regression model is :' ,roc_auc_score(y_test,y_pred))\n",
    "print('The accuracy for logistic regression is : ', accuracy_score(y_test,y_pred))"
   ]
  },
  {
   "cell_type": "markdown",
   "metadata": {},
   "source": [
    "### Lets now train our data with Decision tree model. We will then predict our test data and compute the accuracy as well as the `roc_auc_score`.\n",
    "\n",
    "- Train a decision tree (DecisionTreeClassifier) with a maximum depth of 3, and evaluate the accuracy metric i.e `roc_auc_score` on the test data. Use parameter `random_state = 42` for results reproducibility."
   ]
  },
  {
   "cell_type": "code",
   "execution_count": 18,
   "metadata": {
    "scrolled": true
   },
   "outputs": [
    {
     "name": "stdout",
     "output_type": "stream",
     "text": [
      "The AUC_ROC_score for a decision tree model is : 0.5873983739837398\n",
      "The accuracy for decision tree is :  0.6442786069651741\n",
      "              precision    recall  f1-score   support\n",
      "\n",
      "           0       0.57      0.33      0.42       156\n",
      "           1       0.67      0.84      0.74       246\n",
      "\n",
      "    accuracy                           0.64       402\n",
      "   macro avg       0.62      0.59      0.58       402\n",
      "weighted avg       0.63      0.64      0.62       402\n",
      "\n"
     ]
    }
   ],
   "source": [
    "dt = DecisionTreeClassifier(random_state=42,max_depth=3)\n",
    "\n",
    "dt.fit(X_train,y_train)\n",
    "\n",
    "y_pred_dt = dt.predict(X_test)\n",
    "\n",
    "print('The AUC_ROC_score for a decision tree model is :' ,roc_auc_score(y_test,y_pred_dt))\n",
    "print('The accuracy for decision tree is : ', accuracy_score(y_test,y_pred_dt))\n",
    "print(classification_report(y_test,y_pred_dt))"
   ]
  },
  {
   "cell_type": "markdown",
   "metadata": {},
   "source": [
    "### Next let's implement a Stacking Classifier consisting of one Decision Tree and Logistic regression and a  decision tree model as a meta classifier."
   ]
  },
  {
   "cell_type": "code",
   "execution_count": 26,
   "metadata": {},
   "outputs": [
    {
     "name": "stdout",
     "output_type": "stream",
     "text": [
      "Test score: 0.65 \n",
      "AUC_ROC_score is  0.6153064415259537\n"
     ]
    }
   ],
   "source": [
    "from mlxtend.classifier import StackingClassifier\n",
    "\n",
    "classifier1 = LogisticRegression(C=0.1)\n",
    "classifier2 = DecisionTreeClassifier(max_depth = 3,criterion='entropy',random_state = 42)\n",
    "\n",
    "classifier_list = [classifier1,classifier2]\n",
    "m_classifier = DecisionTreeClassifier(max_depth = 6,criterion='gini',random_state = 42)\n",
    "# m_classifier = LogisticRegression()\n",
    "\n",
    "stacking_clf = StackingClassifier(classifiers = classifier_list , meta_classifier = m_classifier)\n",
    "\n",
    "stacking_clf.fit(X_train,y_train)\n",
    "\n",
    "y_pred_sclf = stacking_clf.predict(X_test)\n",
    "\n",
    "s_score=stacking_clf.score(X_test,y_test)\n",
    "\n",
    "print(\"Test score: %.2f \" % s_score)\n",
    "\n",
    "print('AUC_ROC_score is ',roc_auc_score(y_test,y_pred))"
   ]
  },
  {
   "cell_type": "markdown",
   "metadata": {},
   "source": [
    "###  Now let's apply a Random Forest model\n",
    "- Let the parameters for the model be `criterion='gini'`, `max_depth= 6`,`max_features= 'auto'`,`n_estimators= 11`"
   ]
  },
  {
   "cell_type": "code",
   "execution_count": 27,
   "metadata": {},
   "outputs": [
    {
     "name": "stdout",
     "output_type": "stream",
     "text": [
      "accuracy score 0.6741293532338308\n",
      "AUC_ROC_score is  0.631722951844903\n"
     ]
    }
   ],
   "source": [
    "rf = RandomForestClassifier(criterion='gini',max_depth = 6,max_features = 'auto',n_estimators =11)\n",
    "\n",
    "rf.fit(X_train,y_train)\n",
    "\n",
    "y_pred_rf = rf.predict(X_test)\n",
    "\n",
    "rf_score = rf.score(X_test,y_test)\n",
    "\n",
    "print(\"accuracy score\",rf_score)\n",
    "\n",
    "print('AUC_ROC_score is ',roc_auc_score(y_test,y_pred_rf))"
   ]
  },
  {
   "cell_type": "markdown",
   "metadata": {},
   "source": [
    "### Let's try improving upon the accuracy of the Random Forest using hyperparameter tuning"
   ]
  },
  {
   "cell_type": "code",
   "execution_count": 28,
   "metadata": {},
   "outputs": [
    {
     "data": {
      "text/plain": [
       "{'bootstrap': True,\n",
       " 'criterion': 'entropy',\n",
       " 'max_depth': 6,\n",
       " 'max_features': 'auto',\n",
       " 'n_estimators': 30}"
      ]
     },
     "execution_count": 28,
     "metadata": {},
     "output_type": "execute_result"
    }
   ],
   "source": [
    "parameter_grid = {'n_estimators':[10,20,30,50,100],'criterion':['entropy','gini'],'max_depth':[3,6,8,9,10],'bootstrap':[True,False],\n",
    "                 'max_features':['auto','sqrt','log2']}\n",
    "\n",
    "rfc = RandomForestClassifier(random_state = 2)\n",
    "\n",
    "grid_search = GridSearchCV(rfc,parameter_grid,cv=3)\n",
    "\n",
    "grid_search.fit(X_train,y_train)\n",
    "\n",
    "grid_search.best_params_"
   ]
  },
  {
   "cell_type": "code",
   "execution_count": 29,
   "metadata": {},
   "outputs": [
    {
     "name": "stdout",
     "output_type": "stream",
     "text": [
      "accuracy score 0.6890547263681592\n",
      "AUC_ROC_score is  0.6521263289555972\n"
     ]
    }
   ],
   "source": [
    "rfc = RandomForestClassifier(criterion='entropy',max_depth = 6, max_features='auto',bootstrap='True',n_estimators=30)\n",
    "\n",
    "rfc.fit(X_train,y_train)\n",
    "\n",
    "y_pred_rfc = rfc.predict(X_test)\n",
    "\n",
    "rfc_score = rfc.score(X_test,y_test)\n",
    "\n",
    "print(\"accuracy score\",rfc_score)\n",
    "\n",
    "print('AUC_ROC_score is ',roc_auc_score(y_test,y_pred_rfc))"
   ]
  },
  {
   "cell_type": "markdown",
   "metadata": {},
   "source": [
    "### Now let's apply a Voting Classifier that consists of three models - Logistic Regression, Decision Tree and a Random Forest with a soft voting"
   ]
  },
  {
   "cell_type": "code",
   "execution_count": 31,
   "metadata": {},
   "outputs": [
    {
     "name": "stdout",
     "output_type": "stream",
     "text": [
      "0.6042057535959975\n",
      "0.6318407960199005\n",
      "              precision    recall  f1-score   support\n",
      "\n",
      "           0       0.53      0.48      0.50       156\n",
      "           1       0.69      0.73      0.71       246\n",
      "\n",
      "    accuracy                           0.63       402\n",
      "   macro avg       0.61      0.60      0.61       402\n",
      "weighted avg       0.63      0.63      0.63       402\n",
      "\n"
     ]
    }
   ],
   "source": [
    "# Import libraries\n",
    "from sklearn.ensemble import VotingClassifier\n",
    "\n",
    "# Various models\n",
    "clf_1 = LogisticRegression()\n",
    "clf_2 = DecisionTreeClassifier(random_state=4)\n",
    "clf_3 = RandomForestClassifier(random_state=4)\n",
    "\n",
    "model_list = [('lr',clf_1),('DT',clf_2),('RF',clf_3)]\n",
    "\n",
    "# Code starts here\n",
    "# Initialize voting classifier\n",
    "voting_clf_soft = VotingClassifier(estimators=model_list,voting='soft')\n",
    "\n",
    "# Fit the model on training data\n",
    "voting_clf_soft.fit(X_train,y_train)\n",
    "\n",
    "# predict on test\n",
    "y_pred_vot = voting_clf_soft.predict(X_test)\n",
    "\n",
    "print(roc_auc_score(y_test,y_pred_vot))\n",
    "print(accuracy_score(y_test,y_pred_vot))\n",
    "print(classification_report(y_test,y_pred_vot))"
   ]
  },
  {
   "cell_type": "markdown",
   "metadata": {},
   "source": [
    "### Let's check how a bagging classifier using a Decision Tree performs on our data"
   ]
  },
  {
   "cell_type": "code",
   "execution_count": 39,
   "metadata": {},
   "outputs": [
    {
     "name": "stdout",
     "output_type": "stream",
     "text": [
      "Accuracy is  0.7288557213930348\n",
      "AUC_ROC_score is  0.690509693558474\n",
      "              precision    recall  f1-score   support\n",
      "\n",
      "           0       0.70      0.52      0.60       156\n",
      "           1       0.74      0.86      0.80       246\n",
      "\n",
      "    accuracy                           0.73       402\n",
      "   macro avg       0.72      0.69      0.70       402\n",
      "weighted avg       0.73      0.73      0.72       402\n",
      "\n"
     ]
    }
   ],
   "source": [
    "# Import Bagging Classifier\n",
    "from sklearn.ensemble import BaggingClassifier\n",
    "\n",
    "# Initialize Bagging Classifier\n",
    "bagging_clf = BaggingClassifier(DecisionTreeClassifier(), random_state=0,n_estimators=100,max_samples=100)\n",
    "\n",
    "# Fit the model on training data\n",
    "bagging_clf.fit(X_train,y_train)\n",
    "\n",
    "# Predicted values of X_test\n",
    "y_pred_bagging = bagging_clf.predict(X_test)\n",
    "\n",
    "# accuracy \n",
    "print('Accuracy is ',bagging_clf.score(X_test,y_test))\n",
    "\n",
    "# roc_score\n",
    "score_bagging = roc_auc_score(y_test,y_pred_bagging)\n",
    "\n",
    "print('AUC_ROC_score is ',score_bagging)\n",
    "print(classification_report(y_test,y_pred_bagging))"
   ]
  },
  {
   "cell_type": "markdown",
   "metadata": {},
   "source": [
    "### Let's now visualize the AUC_ROC scores for all the models in one plot"
   ]
  },
  {
   "cell_type": "code",
   "execution_count": 36,
   "metadata": {},
   "outputs": [
    {
     "data": {
      "image/png": "[encoded data removed]",
      "text/plain": [
       "<Figure size 576x432 with 1 Axes>"
      ]
     },
     "metadata": {
      "needs_background": "light"
     },
     "output_type": "display_data"
    }
   ],
   "source": [
    "# Define a result table as a DataFrame\n",
    "result_table = pd.DataFrame(columns=['classifiers', 'fpr','tpr','auc'])\n",
    "\n",
    "classifiers = [dt,rfc,bagging_clf,voting_clf_soft,stacking_clf]\n",
    "\n",
    "for cls in classifiers:\n",
    "    model = cls.fit(X_train, y_train)\n",
    "    yproba = model.predict_proba(X_test)[:,1]\n",
    "    \n",
    "    fpr, tpr, _ = roc_curve(y_test,  yproba)\n",
    "    auc = roc_auc_score(y_test, yproba)\n",
    "    \n",
    "    result_table = result_table.append({'classifiers':cls.__class__.__name__,\n",
    "                                        'fpr':fpr, \n",
    "                                        'tpr':tpr, \n",
    "                                        'auc':auc}, ignore_index=True)\n",
    "\n",
    "    \n",
    "# Set name of the classifiers as index labels\n",
    "result_table.set_index('classifiers', inplace=True)\n",
    "\n",
    "fig = plt.figure(figsize=(8,6))\n",
    "\n",
    "for i in result_table.index:\n",
    "    plt.plot(result_table.loc[i]['fpr'], \n",
    "             result_table.loc[i]['tpr'], \n",
    "             label=\"{}, AUC={:.3f}\".format(i, result_table.loc[i]['auc']))\n",
    "    \n",
    "plt.plot([0,1], [0,1], color='orange', linestyle='--')\n",
    "\n",
    "plt.xticks(np.arange(0.0, 1.1, step=0.1))\n",
    "plt.xlabel(\"Flase Positive Rate\", fontsize=15)\n",
    "\n",
    "plt.yticks(np.arange(0.0, 1.1, step=0.1))\n",
    "plt.ylabel(\"True Positive Rate\", fontsize=15)\n",
    "\n",
    "plt.title('ROC Curve Analysis', fontweight='bold', fontsize=15)\n",
    "plt.legend(prop={'size':13}, loc='lower right')\n",
    "\n",
    "plt.show()"
   ]
  },
  {
   "cell_type": "code",
   "execution_count": null,
   "metadata": {},
   "outputs": [],
   "source": []
  }
 ],
 "metadata": {
  "kernelspec": {
   "display_name": "Python 3",
   "language": "python",
   "name": "python3"
  },
  "language_info": {
   "codemirror_mode": {
    "name": "ipython",
    "version": 3
   },
   "file_extension": ".py",
   "mimetype": "text/x-python",
   "name": "python",
   "nbconvert_exporter": "python",
   "pygments_lexer": "ipython3",
   "version": "3.7.4"
  }
 },
 "nbformat": 4,
 "nbformat_minor": 2
}
